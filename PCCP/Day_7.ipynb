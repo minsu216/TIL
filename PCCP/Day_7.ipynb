{
 "cells": [
  {
   "cell_type": "code",
   "execution_count": 1,
   "metadata": {},
   "outputs": [
    {
     "name": "stdout",
     "output_type": "stream",
     "text": [
      "hi\n"
     ]
    }
   ],
   "source": [
    "print('hi')"
   ]
  },
  {
   "cell_type": "code",
   "execution_count": 2,
   "metadata": {},
   "outputs": [],
   "source": [
    "def func_1(x): # x에다가 1을 더해주고, 그리고 우리에게 보여줍니다가 역할\n",
    "    return(x+1)\n",
    "\n",
    "def func_2(x): # x에다가 1을 더해주고, 그리고 우리에게 반환해줍니다(사용할 수 있도록)\n",
    "    return x+2"
   ]
  },
  {
   "cell_type": "code",
   "execution_count": 6,
   "metadata": {},
   "outputs": [
    {
     "data": {
      "text/plain": [
       "11"
      ]
     },
     "execution_count": 6,
     "metadata": {},
     "output_type": "execute_result"
    }
   ],
   "source": [
    "func_1(10)"
   ]
  },
  {
   "cell_type": "code",
   "execution_count": 18,
   "metadata": {},
   "outputs": [
    {
     "name": "stdout",
     "output_type": "stream",
     "text": [
      "[[2, 4, 6, 8, 10, 12, 14, 16, 18],\n",
      " [3, 6, 9, 12, 15, 18, 21, 24, 27],\n",
      " [4, 8, 12, 16, 20, 24, 28, 32, 36],\n",
      " [5, 10, 15, 20, 25, 30, 35, 40, 45],\n",
      " [6, 12, 18, 24, 30, 36, 42, 48, 54],\n",
      " [7, 14, 21, 28, 35, 42, 49, 56, 63],\n",
      " [8, 16, 24, 32, 40, 48, 56, 64, 72],\n",
      " [9, 18, 27, 36, 45, 54, 63, 72, 81]]\n"
     ]
    }
   ],
   "source": [
    "#구구단 만들어보자 2 4 6 8 10  3 6 9 12 ... 4. ... . ..  36\n",
    "#n_단을 만들 예정, n이란 숫자가 필요하다\n",
    "n=9\n",
    "gugudan=[]\n",
    "for n in range(2,10):\n",
    "    n_dan=[]\n",
    "    for i in range(1,10):\n",
    "        n_dan.append(n * i)\n",
    "    gugudan.append(n_dan)\n",
    "\n",
    "from pprint import pprint\n",
    "pprint(gugudan)\n",
    "\n"
   ]
  },
  {
   "cell_type": "code",
   "execution_count": null,
   "metadata": {},
   "outputs": [],
   "source": [
    "def make_n_dan(n):\n",
    "    n_dan=[]\n",
    "    for i in range(1,10):\n",
    "        n_dan.append(n*i)"
   ]
  },
  {
   "cell_type": "code",
   "execution_count": 20,
   "metadata": {},
   "outputs": [
    {
     "name": "stdout",
     "output_type": "stream",
     "text": [
      "[[2, 4, 6, 8, 10, 12, 14, 16, 18, 20, 22, 24, 26, 28, 30, 32, 34, 36, 38],\n",
      " [3, 6, 9, 12, 15, 18, 21, 24, 27, 30, 33, 36, 39, 42, 45, 48, 51, 54, 57],\n",
      " [4, 8, 12, 16, 20, 24, 28, 32, 36, 40, 44, 48, 52, 56, 60, 64, 68, 72, 76],\n",
      " [5, 10, 15, 20, 25, 30, 35, 40, 45, 50, 55, 60, 65, 70, 75, 80, 85, 90, 95],\n",
      " [6, 12, 18, 24, 30, 36, 42, 48, 54, 60, 66, 72, 78, 84, 90, 96, 102, 108, 114],\n",
      " [7,\n",
      "  14,\n",
      "  21,\n",
      "  28,\n",
      "  35,\n",
      "  42,\n",
      "  49,\n",
      "  56,\n",
      "  63,\n",
      "  70,\n",
      "  77,\n",
      "  84,\n",
      "  91,\n",
      "  98,\n",
      "  105,\n",
      "  112,\n",
      "  119,\n",
      "  126,\n",
      "  133],\n",
      " [8,\n",
      "  16,\n",
      "  24,\n",
      "  32,\n",
      "  40,\n",
      "  48,\n",
      "  56,\n",
      "  64,\n",
      "  72,\n",
      "  80,\n",
      "  88,\n",
      "  96,\n",
      "  104,\n",
      "  112,\n",
      "  120,\n",
      "  128,\n",
      "  136,\n",
      "  144,\n",
      "  152],\n",
      " [9,\n",
      "  18,\n",
      "  27,\n",
      "  36,\n",
      "  45,\n",
      "  54,\n",
      "  63,\n",
      "  72,\n",
      "  81,\n",
      "  90,\n",
      "  99,\n",
      "  108,\n",
      "  117,\n",
      "  126,\n",
      "  135,\n",
      "  144,\n",
      "  153,\n",
      "  162,\n",
      "  171],\n",
      " [10,\n",
      "  20,\n",
      "  30,\n",
      "  40,\n",
      "  50,\n",
      "  60,\n",
      "  70,\n",
      "  80,\n",
      "  90,\n",
      "  100,\n",
      "  110,\n",
      "  120,\n",
      "  130,\n",
      "  140,\n",
      "  150,\n",
      "  160,\n",
      "  170,\n",
      "  180,\n",
      "  190],\n",
      " [11,\n",
      "  22,\n",
      "  33,\n",
      "  44,\n",
      "  55,\n",
      "  66,\n",
      "  77,\n",
      "  88,\n",
      "  99,\n",
      "  110,\n",
      "  121,\n",
      "  132,\n",
      "  143,\n",
      "  154,\n",
      "  165,\n",
      "  176,\n",
      "  187,\n",
      "  198,\n",
      "  209],\n",
      " [12,\n",
      "  24,\n",
      "  36,\n",
      "  48,\n",
      "  60,\n",
      "  72,\n",
      "  84,\n",
      "  96,\n",
      "  108,\n",
      "  120,\n",
      "  132,\n",
      "  144,\n",
      "  156,\n",
      "  168,\n",
      "  180,\n",
      "  192,\n",
      "  204,\n",
      "  216,\n",
      "  228],\n",
      " [13,\n",
      "  26,\n",
      "  39,\n",
      "  52,\n",
      "  65,\n",
      "  78,\n",
      "  91,\n",
      "  104,\n",
      "  117,\n",
      "  130,\n",
      "  143,\n",
      "  156,\n",
      "  169,\n",
      "  182,\n",
      "  195,\n",
      "  208,\n",
      "  221,\n",
      "  234,\n",
      "  247],\n",
      " [14,\n",
      "  28,\n",
      "  42,\n",
      "  56,\n",
      "  70,\n",
      "  84,\n",
      "  98,\n",
      "  112,\n",
      "  126,\n",
      "  140,\n",
      "  154,\n",
      "  168,\n",
      "  182,\n",
      "  196,\n",
      "  210,\n",
      "  224,\n",
      "  238,\n",
      "  252,\n",
      "  266],\n",
      " [15,\n",
      "  30,\n",
      "  45,\n",
      "  60,\n",
      "  75,\n",
      "  90,\n",
      "  105,\n",
      "  120,\n",
      "  135,\n",
      "  150,\n",
      "  165,\n",
      "  180,\n",
      "  195,\n",
      "  210,\n",
      "  225,\n",
      "  240,\n",
      "  255,\n",
      "  270,\n",
      "  285],\n",
      " [16,\n",
      "  32,\n",
      "  48,\n",
      "  64,\n",
      "  80,\n",
      "  96,\n",
      "  112,\n",
      "  128,\n",
      "  144,\n",
      "  160,\n",
      "  176,\n",
      "  192,\n",
      "  208,\n",
      "  224,\n",
      "  240,\n",
      "  256,\n",
      "  272,\n",
      "  288,\n",
      "  304],\n",
      " [17,\n",
      "  34,\n",
      "  51,\n",
      "  68,\n",
      "  85,\n",
      "  102,\n",
      "  119,\n",
      "  136,\n",
      "  153,\n",
      "  170,\n",
      "  187,\n",
      "  204,\n",
      "  221,\n",
      "  238,\n",
      "  255,\n",
      "  272,\n",
      "  289,\n",
      "  306,\n",
      "  323],\n",
      " [18,\n",
      "  36,\n",
      "  54,\n",
      "  72,\n",
      "  90,\n",
      "  108,\n",
      "  126,\n",
      "  144,\n",
      "  162,\n",
      "  180,\n",
      "  198,\n",
      "  216,\n",
      "  234,\n",
      "  252,\n",
      "  270,\n",
      "  288,\n",
      "  306,\n",
      "  324,\n",
      "  342],\n",
      " [19,\n",
      "  38,\n",
      "  57,\n",
      "  76,\n",
      "  95,\n",
      "  114,\n",
      "  133,\n",
      "  152,\n",
      "  171,\n",
      "  190,\n",
      "  209,\n",
      "  228,\n",
      "  247,\n",
      "  266,\n",
      "  285,\n",
      "  304,\n",
      "  323,\n",
      "  342,\n",
      "  361]]\n"
     ]
    }
   ],
   "source": [
    "#19 19단\n",
    "gugudan=[]\n",
    "for n in range(2,20):\n",
    "    n_dan=[]\n",
    "    for i in range(1,20):\n",
    "        n_dan.append(n * i)\n",
    "    gugudan.append(n_dan)\n",
    "pprint(gugudan)"
   ]
  },
  {
   "cell_type": "code",
   "execution_count": 21,
   "metadata": {},
   "outputs": [],
   "source": [
    "#19 19단\n",
    "def make_n_m_dan(n,m):\n",
    "    gugudan=[]\n",
    "    for n in range(2,20):\n",
    "        n_dan=[]\n",
    "        for i in range(1,20):\n",
    "            n_dan.append(n * i)\n",
    "        gugudan.append(n_dan)\n",
    "    return gugudan"
   ]
  },
  {
   "cell_type": "code",
   "execution_count": 22,
   "metadata": {},
   "outputs": [
    {
     "name": "stdout",
     "output_type": "stream",
     "text": [
      "[[2, 4, 6, 8, 10, 12, 14, 16, 18, 20, 22, 24, 26, 28, 30, 32, 34, 36, 38],\n",
      " [3, 6, 9, 12, 15, 18, 21, 24, 27, 30, 33, 36, 39, 42, 45, 48, 51, 54, 57],\n",
      " [4, 8, 12, 16, 20, 24, 28, 32, 36, 40, 44, 48, 52, 56, 60, 64, 68, 72, 76],\n",
      " [5, 10, 15, 20, 25, 30, 35, 40, 45, 50, 55, 60, 65, 70, 75, 80, 85, 90, 95],\n",
      " [6, 12, 18, 24, 30, 36, 42, 48, 54, 60, 66, 72, 78, 84, 90, 96, 102, 108, 114],\n",
      " [7,\n",
      "  14,\n",
      "  21,\n",
      "  28,\n",
      "  35,\n",
      "  42,\n",
      "  49,\n",
      "  56,\n",
      "  63,\n",
      "  70,\n",
      "  77,\n",
      "  84,\n",
      "  91,\n",
      "  98,\n",
      "  105,\n",
      "  112,\n",
      "  119,\n",
      "  126,\n",
      "  133],\n",
      " [8,\n",
      "  16,\n",
      "  24,\n",
      "  32,\n",
      "  40,\n",
      "  48,\n",
      "  56,\n",
      "  64,\n",
      "  72,\n",
      "  80,\n",
      "  88,\n",
      "  96,\n",
      "  104,\n",
      "  112,\n",
      "  120,\n",
      "  128,\n",
      "  136,\n",
      "  144,\n",
      "  152],\n",
      " [9,\n",
      "  18,\n",
      "  27,\n",
      "  36,\n",
      "  45,\n",
      "  54,\n",
      "  63,\n",
      "  72,\n",
      "  81,\n",
      "  90,\n",
      "  99,\n",
      "  108,\n",
      "  117,\n",
      "  126,\n",
      "  135,\n",
      "  144,\n",
      "  153,\n",
      "  162,\n",
      "  171],\n",
      " [10,\n",
      "  20,\n",
      "  30,\n",
      "  40,\n",
      "  50,\n",
      "  60,\n",
      "  70,\n",
      "  80,\n",
      "  90,\n",
      "  100,\n",
      "  110,\n",
      "  120,\n",
      "  130,\n",
      "  140,\n",
      "  150,\n",
      "  160,\n",
      "  170,\n",
      "  180,\n",
      "  190],\n",
      " [11,\n",
      "  22,\n",
      "  33,\n",
      "  44,\n",
      "  55,\n",
      "  66,\n",
      "  77,\n",
      "  88,\n",
      "  99,\n",
      "  110,\n",
      "  121,\n",
      "  132,\n",
      "  143,\n",
      "  154,\n",
      "  165,\n",
      "  176,\n",
      "  187,\n",
      "  198,\n",
      "  209],\n",
      " [12,\n",
      "  24,\n",
      "  36,\n",
      "  48,\n",
      "  60,\n",
      "  72,\n",
      "  84,\n",
      "  96,\n",
      "  108,\n",
      "  120,\n",
      "  132,\n",
      "  144,\n",
      "  156,\n",
      "  168,\n",
      "  180,\n",
      "  192,\n",
      "  204,\n",
      "  216,\n",
      "  228],\n",
      " [13,\n",
      "  26,\n",
      "  39,\n",
      "  52,\n",
      "  65,\n",
      "  78,\n",
      "  91,\n",
      "  104,\n",
      "  117,\n",
      "  130,\n",
      "  143,\n",
      "  156,\n",
      "  169,\n",
      "  182,\n",
      "  195,\n",
      "  208,\n",
      "  221,\n",
      "  234,\n",
      "  247],\n",
      " [14,\n",
      "  28,\n",
      "  42,\n",
      "  56,\n",
      "  70,\n",
      "  84,\n",
      "  98,\n",
      "  112,\n",
      "  126,\n",
      "  140,\n",
      "  154,\n",
      "  168,\n",
      "  182,\n",
      "  196,\n",
      "  210,\n",
      "  224,\n",
      "  238,\n",
      "  252,\n",
      "  266],\n",
      " [15,\n",
      "  30,\n",
      "  45,\n",
      "  60,\n",
      "  75,\n",
      "  90,\n",
      "  105,\n",
      "  120,\n",
      "  135,\n",
      "  150,\n",
      "  165,\n",
      "  180,\n",
      "  195,\n",
      "  210,\n",
      "  225,\n",
      "  240,\n",
      "  255,\n",
      "  270,\n",
      "  285],\n",
      " [16,\n",
      "  32,\n",
      "  48,\n",
      "  64,\n",
      "  80,\n",
      "  96,\n",
      "  112,\n",
      "  128,\n",
      "  144,\n",
      "  160,\n",
      "  176,\n",
      "  192,\n",
      "  208,\n",
      "  224,\n",
      "  240,\n",
      "  256,\n",
      "  272,\n",
      "  288,\n",
      "  304],\n",
      " [17,\n",
      "  34,\n",
      "  51,\n",
      "  68,\n",
      "  85,\n",
      "  102,\n",
      "  119,\n",
      "  136,\n",
      "  153,\n",
      "  170,\n",
      "  187,\n",
      "  204,\n",
      "  221,\n",
      "  238,\n",
      "  255,\n",
      "  272,\n",
      "  289,\n",
      "  306,\n",
      "  323],\n",
      " [18,\n",
      "  36,\n",
      "  54,\n",
      "  72,\n",
      "  90,\n",
      "  108,\n",
      "  126,\n",
      "  144,\n",
      "  162,\n",
      "  180,\n",
      "  198,\n",
      "  216,\n",
      "  234,\n",
      "  252,\n",
      "  270,\n",
      "  288,\n",
      "  306,\n",
      "  324,\n",
      "  342],\n",
      " [19,\n",
      "  38,\n",
      "  57,\n",
      "  76,\n",
      "  95,\n",
      "  114,\n",
      "  133,\n",
      "  152,\n",
      "  171,\n",
      "  190,\n",
      "  209,\n",
      "  228,\n",
      "  247,\n",
      "  266,\n",
      "  285,\n",
      "  304,\n",
      "  323,\n",
      "  342,\n",
      "  361]]\n"
     ]
    }
   ],
   "source": [
    "pprint(make_n_m_dan(7,9))"
   ]
  },
  {
   "cell_type": "code",
   "execution_count": 24,
   "metadata": {},
   "outputs": [
    {
     "name": "stdout",
     "output_type": "stream",
     "text": [
      "[[0, 0, 0, 0], [0, 0, 0, 0], [0, 0, 0, 0], [0, 0, 0, 0]]\n"
     ]
    }
   ],
   "source": [
    "#그리드!\n",
    "\n",
    "n=4\n",
    "#잘못된식\\\\\\\\ㅎ걍\n",
    "grid = [[0]*n] *n\n",
    "print(grid)\n",
    "grid=-[]\n",
    "small_grid = [0]*n\n",
    "for _ in range(5):\n",
    "    grid.append(small_grid)\n",
    "# grid[0][0] =1\n",
    "# pprint(grid/)"
   ]
  },
  {
   "cell_type": "code",
   "execution_count": 25,
   "metadata": {},
   "outputs": [],
   "source": [
    "grid=[]\n",
    "for i in range(n):\n",
    "    small_grid = [0]*n\n",
    "    grid.append(small_grid)"
   ]
  },
  {
   "cell_type": "code",
   "execution_count": 38,
   "metadata": {},
   "outputs": [],
   "source": [
    "grid = [[0]*n for _ in range(n)]"
   ]
  },
  {
   "cell_type": "code",
   "execution_count": 44,
   "metadata": {},
   "outputs": [],
   "source": [
    "grid2 = [[0] *n for _ in range(n)]"
   ]
  },
  {
   "cell_type": "code",
   "execution_count": 45,
   "metadata": {},
   "outputs": [
    {
     "name": "stdout",
     "output_type": "stream",
     "text": [
      "[[0, 0, 0, 0], [0, 0, 0, 0], [0, 0, 0, 0], [0, 0, 0, 0]]\n"
     ]
    },
    {
     "data": {
      "text/plain": [
       "[[0, 0, 0, 0], [0, 0, 0, 0], [0, 0, 0, 0], [0, 0, 0, 0]]"
      ]
     },
     "execution_count": 45,
     "metadata": {},
     "output_type": "execute_result"
    }
   ],
   "source": [
    "pprint(grid2)# CH최종형태..\n",
    "\n",
    "grid"
   ]
  },
  {
   "cell_type": "code",
   "execution_count": 43,
   "metadata": {},
   "outputs": [
    {
     "name": "stdout",
     "output_type": "stream",
     "text": [
      "[100, 2, 3] [100, 2, 3]\n"
     ]
    }
   ],
   "source": [
    "lst1=[1,2,3]\n",
    "lst2 = lst1\n",
    "lst1[0]=100\n",
    "print(lst1,lst2)"
   ]
  },
  {
   "cell_type": "code",
   "execution_count": 46,
   "metadata": {},
   "outputs": [
    {
     "name": "stdout",
     "output_type": "stream",
     "text": [
      "[100, 2, 3] [1, 2, 3]\n"
     ]
    }
   ],
   "source": [
    "lst1 =[1,2,3]\n",
    "lst2  =lst1[:]\n",
    "lst1[0]=100\n",
    "print(lst1,lst2)"
   ]
  },
  {
   "cell_type": "code",
   "execution_count": 55,
   "metadata": {},
   "outputs": [
    {
     "name": "stdout",
     "output_type": "stream",
     "text": [
      "[[100, 2], [3, 4]]\n",
      "[[1, 2], [3, 4]]\n",
      "[[1, 2], [3, 4]]\n"
     ]
    }
   ],
   "source": [
    "# 2차원일때는 불가능하므로 deepcopy를 통해\n",
    "mat1=[[1,2],[3,4]]\n",
    "mat2 = copy.deepcopy(mat1)\n",
    "mat1[0][0] = 100\n",
    "print(mat1)\n",
    "print(mat2)\n",
    "\n",
    "from copy import deepcopy\n",
    "import copy\n",
    "#얕은 카피를 recursive하게 하면 됩니다!\n",
    "\n",
    "print(mat2)"
   ]
  },
  {
   "cell_type": "code",
   "execution_count": 56,
   "metadata": {},
   "outputs": [
    {
     "name": "stdout",
     "output_type": "stream",
     "text": [
      "2\n"
     ]
    }
   ],
   "source": [
    "a=input()\n",
    "print(a)"
   ]
  },
  {
   "cell_type": "code",
   "execution_count": 64,
   "metadata": {},
   "outputs": [
    {
     "name": "stdout",
     "output_type": "stream",
     "text": [
      "1 2\n",
      "3 4\n",
      "5 4\n",
      "2 3\n",
      "1 2\n"
     ]
    }
   ],
   "source": [
    "T= int(input())\n",
    "for _ in range(T):\n",
    "    a= input().split(' ')\n",
    "    print(' '.join(a))"
   ]
  },
  {
   "cell_type": "code",
   "execution_count": 65,
   "metadata": {},
   "outputs": [
    {
     "ename": "ValueError",
     "evalue": "invalid literal for int() with base 10: ''",
     "output_type": "error",
     "traceback": [
      "\u001b[1;31m---------------------------------------------------------------------------\u001b[0m",
      "\u001b[1;31mValueError\u001b[0m                                Traceback (most recent call last)",
      "Cell \u001b[1;32mIn[65], line 1\u001b[0m\n\u001b[1;32m----> 1\u001b[0m T\u001b[39m=\u001b[39m \u001b[39mint\u001b[39;49m(\u001b[39minput\u001b[39;49m())\n\u001b[0;32m      2\u001b[0m \u001b[39mfor\u001b[39;00m _ \u001b[39min\u001b[39;00m \u001b[39mrange\u001b[39m(T):\n\u001b[0;32m      3\u001b[0m     x\u001b[39m=\u001b[39m \u001b[39minput\u001b[39m()\u001b[39m.\u001b[39msplit()\n",
      "\u001b[1;31mValueError\u001b[0m: invalid literal for int() with base 10: ''"
     ]
    }
   ],
   "source": [
    "T= int(input())\n",
    "for _ in range(T):\n",
    "    x= input().split()\n",
    "    # new_lst=[]\n",
    "    # for i in x:\n",
    "    #     new_lst.append(int(i))\n",
    "    # new_lst= [int(char) for char in x]\n",
    "\n",
    "    # x=list(map(int,x))\n",
    "\n",
    "#1 6 -> input의 과정\n",
    "#['1','6'] -> strip의 과정\n",
    "#[1,6] -> map을 활용해서 씌어줄 것이다.\n",
    "#map(int())->contain으로 활용할 것이다.\n",
    "#"
   ]
  },
  {
   "cell_type": "code",
   "execution_count": null,
   "metadata": {},
   "outputs": [],
   "source": [
    "T= int(input())\n",
    "for _ in range(T):\n",
    "    input_value = input()# str로써 입력\n",
    "    input_value = input_value.split() # 리스트의 형태로 바꾸미\n",
    "    input_value=list(map(int,input_value).split()) #리스트 원소들을 각각 정수로 바꿈"
   ]
  },
  {
   "cell_type": "code",
   "execution_count": 78,
   "metadata": {},
   "outputs": [
    {
     "data": {
      "text/plain": [
       "[[1, 2, 3], [4, 5, 6], [7, 8, 9], [10, 11, 12]]"
      ]
     },
     "execution_count": 78,
     "metadata": {},
     "output_type": "execute_result"
    }
   ],
   "source": [
    "a,b= map(int,input().split())\n",
    "lst=[]\n",
    "k=0\n",
    "for _ in range(a):\n",
    "    lst1=[]\n",
    "    for _ in range(b):\n",
    "        lst1.append(k+1)\n",
    "        k= k+1\n",
    "    lst.append(lst1)\n",
    "\n",
    "lst"
   ]
  },
  {
   "cell_type": "code",
   "execution_count": null,
   "metadata": {},
   "outputs": [],
   "source": [
    "[[1,2,3],[4,5,6],[7,8,9],[10,11,12]]"
   ]
  },
  {
   "cell_type": "code",
   "execution_count": null,
   "metadata": {},
   "outputs": [],
   "source": []
  },
  {
   "cell_type": "code",
   "execution_count": null,
   "metadata": {},
   "outputs": [],
   "source": []
  },
  {
   "cell_type": "code",
   "execution_count": null,
   "metadata": {},
   "outputs": [],
   "source": []
  }
 ],
 "metadata": {
  "kernelspec": {
   "display_name": "Python 3",
   "language": "python",
   "name": "python3"
  },
  "language_info": {
   "codemirror_mode": {
    "name": "ipython",
    "version": 3
   },
   "file_extension": ".py",
   "mimetype": "text/x-python",
   "name": "python",
   "nbconvert_exporter": "python",
   "pygments_lexer": "ipython3",
   "version": "3.11.4"
  },
  "orig_nbformat": 4
 },
 "nbformat": 4,
 "nbformat_minor": 2
}
