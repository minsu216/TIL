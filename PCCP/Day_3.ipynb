{
 "cells": [
  {
   "cell_type": "code",
   "execution_count": 3,
   "metadata": {},
   "outputs": [],
   "source": [
    "#Container : 담는것 , Data 정보 -> data type 숫자 그리고 문자 그리고 Boolean같은 것들을 Data로 사용한다.\n",
    "#즉 여러개의 데이터 타입이나 데이터들을 저장하기 위한 방법 OR 사용하기 위한 방법이다.\n",
    "\n",
    "#Ex) list.. data stuctor 순서 의 유무 -> Container를 나눈다! \n",
    "#순서가 있는건 list이고 없는 것은 set -> 집합 의미...순서가 있다는 의미는 index로써 접근이 가능한지 불가능한지 확인\n",
    "#순서가 존재하기에 각 list문에 파악이 가능\n",
    "#set은 그 집합에 유무만 판단하기 때문이다. -> 순서 x 준이 2명이있다고 하면 준 구분이 안됨!\n",
    "# Set 은 중복제거에 탁월스!\n",
    "\n",
    "# string 각 character문이 합쳐짐\n",
    "\n",
    "# tuple은 변경이 되지않는다는 특징을 가지고 있다.\n",
    "\n",
    "# 순서가 없는건 set과 dictionary (데이터를 키:Value 형태로 나타내는 것) value는 타겟으로하는 데이터 그 자체이다.\n",
    "\n",
    "# 0번째 첫번째 두번째라는 것을 인덱스로 쓴다. # 잡고 사용하기 위해서이다. index를 사용,\n",
    "\n",
    "# string으로 대체하겠다는게 딕셔너리이다.!!\n",
    "\n",
    "# name : Jun, age : 18 , sex : M\n",
    "\n",
    "# 순서가 없는 것들은 인덱스가 존재하지 않는다는 특징을 가지고 있다\n"
   ]
  },
  {
   "cell_type": "code",
   "execution_count": 7,
   "metadata": {},
   "outputs": [
    {
     "data": {
      "text/plain": [
       "'jun'"
      ]
     },
     "execution_count": 7,
     "metadata": {},
     "output_type": "execute_result"
    }
   ],
   "source": [
    "# List ( 순서가 있다. 따라서 인덱스로 접근이 가능!! -?)\n",
    "\n",
    "names = ['jun','alex','key'] # 0 , 1 , 2\n",
    "\n",
    "#사용)\n",
    "names[0]\n"
   ]
  },
  {
   "cell_type": "code",
   "execution_count": 8,
   "metadata": {},
   "outputs": [
    {
     "name": "stdout",
     "output_type": "stream",
     "text": [
      "준\n"
     ]
    }
   ],
   "source": [
    "name='준'\n",
    "print(name[0])"
   ]
  },
  {
   "cell_type": "code",
   "execution_count": 10,
   "metadata": {},
   "outputs": [
    {
     "data": {
      "text/plain": [
       "[1, 2, 3, 4]"
      ]
     },
     "execution_count": 10,
     "metadata": {},
     "output_type": "execute_result"
    }
   ],
   "source": [
    "# 리스트의 덥셈은 안에 값들이 더해지지않고 이어짐\n",
    "[1,2]+[3,4]"
   ]
  },
  {
   "cell_type": "code",
   "execution_count": 12,
   "metadata": {},
   "outputs": [
    {
     "name": "stdout",
     "output_type": "stream",
     "text": [
      "[1, 2, 1, 2, 1, 2]\n"
     ]
    }
   ],
   "source": [
    "print([1,2]*3)\n",
    "#[1,2,1,2,1,2]"
   ]
  },
  {
   "cell_type": "code",
   "execution_count": 15,
   "metadata": {},
   "outputs": [
    {
     "data": {
      "text/plain": [
       "[3, 4, 5, 6, 7]"
      ]
     },
     "execution_count": 15,
     "metadata": {},
     "output_type": "execute_result"
    }
   ],
   "source": [
    "numbers=[1,2,3,4,5,6,7]\n",
    "numbers[2:]"
   ]
  },
  {
   "cell_type": "code",
   "execution_count": 18,
   "metadata": {},
   "outputs": [
    {
     "name": "stdout",
     "output_type": "stream",
     "text": [
      "[1, 2, 3, 4, 5, 6, 7]\n",
      "[2, 3, 4]\n"
     ]
    }
   ],
   "source": [
    "print(numbers[0:])\n",
    "print(numbers[1:4])"
   ]
  },
  {
   "cell_type": "code",
   "execution_count": 20,
   "metadata": {},
   "outputs": [
    {
     "name": "stdout",
     "output_type": "stream",
     "text": [
      "[2, 4]\n"
     ]
    }
   ],
   "source": [
    "#index앞에 막대기를 놓는다고 판단\n",
    "# 막대ㅣㄱ에 인덱스를 붙이고, 해당 막대기 사이의 범위 를 슬라이싱을 통해 \n",
    "# numbers[시작 : 끝나는 인덱스 :step (생략가능!)]\n",
    "# step\n",
    "print(numbers[1 : 5:2])"
   ]
  },
  {
   "cell_type": "code",
   "execution_count": 23,
   "metadata": {},
   "outputs": [
    {
     "name": "stdout",
     "output_type": "stream",
     "text": [
      "[1, 2, 3, 4, 5, 6]\n",
      "[7]\n",
      "[7, 6, 5, 4, 3, 2, 1]\n"
     ]
    }
   ],
   "source": [
    "# 음수에 대한 슬라이싱도 가능하다. **\n",
    "print(numbers[:6]) #처음부터 6\n",
    "print(numbers[6:]) #6부터 마지막 까지\n",
    "print(numbers[::-1])"
   ]
  },
  {
   "cell_type": "code",
   "execution_count": 24,
   "metadata": {},
   "outputs": [
    {
     "name": "stdout",
     "output_type": "stream",
     "text": [
      "['j', 'a', 'k', 's']\n",
      "['j', 'k', 's']\n"
     ]
    }
   ],
   "source": [
    "# 리스트에서 원소에 삽입\n",
    "\n",
    "names = ['j','a','k']\n",
    "name ='s'\n",
    "\n",
    "names.append(name)\n",
    "\n",
    "print(names)\n",
    "\n",
    "# 리스트 원소 삭제!\n",
    "\n",
    "names.pop(1)\n",
    "print(names)"
   ]
  },
  {
   "cell_type": "code",
   "execution_count": 26,
   "metadata": {},
   "outputs": [
    {
     "name": "stdout",
     "output_type": "stream",
     "text": [
      "안녕 {'jun'}\n"
     ]
    }
   ],
   "source": [
    "name ='jun'\n",
    "name2='alex'\n",
    "print( f'안녕', {name})"
   ]
  },
  {
   "cell_type": "code",
   "execution_count": 38,
   "metadata": {},
   "outputs": [
    {
     "name": "stdout",
     "output_type": "stream",
     "text": [
      "[3, 4, 5, 6]\n",
      "[0, 1, 2, 3, 4, 5, 6, 7]\n"
     ]
    }
   ],
   "source": [
    "#range\n",
    "#수열\n",
    "#슬라이싱의 상요법과 비슷\n",
    "# 시작인덱스, 끝 인덱스, step\n",
    "\n",
    "print(list(range(3,7)))\n",
    "print(list(range(8)))"
   ]
  },
  {
   "cell_type": "code",
   "execution_count": 44,
   "metadata": {},
   "outputs": [
    {
     "data": {
      "text/plain": [
       "[0, 1, 2, 3, 4, 5]"
      ]
     },
     "execution_count": 44,
     "metadata": {},
     "output_type": "execute_result"
    }
   ],
   "source": [
    "[i for i in range(6)] "
   ]
  },
  {
   "cell_type": "code",
   "execution_count": 45,
   "metadata": {},
   "outputs": [
    {
     "data": {
      "text/plain": [
       "[4, 5, 6, 7]"
      ]
     },
     "execution_count": 45,
     "metadata": {},
     "output_type": "execute_result"
    }
   ],
   "source": [
    "[i for i in range(4,8)]"
   ]
  },
  {
   "cell_type": "code",
   "execution_count": 46,
   "metadata": {},
   "outputs": [
    {
     "data": {
      "text/plain": [
       "[3, 6, 9]"
      ]
     },
     "execution_count": 46,
     "metadata": {},
     "output_type": "execute_result"
    }
   ],
   "source": [
    "[i for i in range(3,10,3)]"
   ]
  },
  {
   "cell_type": "code",
   "execution_count": 47,
   "metadata": {},
   "outputs": [
    {
     "data": {
      "text/plain": [
       "[1, 2, 1, 2, 1, 2, 1, 2]"
      ]
     },
     "execution_count": 47,
     "metadata": {},
     "output_type": "execute_result"
    }
   ],
   "source": [
    "[1,2]*4"
   ]
  },
  {
   "cell_type": "code",
   "execution_count": 52,
   "metadata": {},
   "outputs": [
    {
     "name": "stdout",
     "output_type": "stream",
     "text": [
      "[0, 1, 2, 3]\n"
     ]
    }
   ],
   "source": [
    "print(list(range(4)))"
   ]
  },
  {
   "cell_type": "code",
   "execution_count": 55,
   "metadata": {},
   "outputs": [
    {
     "data": {
      "text/plain": [
       "True"
      ]
     },
     "execution_count": 55,
     "metadata": {},
     "output_type": "execute_result"
    }
   ],
   "source": [
    "#멤버십 연산자 \n",
    "\n",
    "names = ['j','a','k']\n",
    "\n",
    "'s' in names # T or F\n",
    "'j' in names\n",
    "'s' not in names"
   ]
  },
  {
   "cell_type": "code",
   "execution_count": 56,
   "metadata": {},
   "outputs": [
    {
     "name": "stdout",
     "output_type": "stream",
     "text": [
      "1\n",
      "2\n",
      "3\n",
      "4\n"
     ]
    }
   ],
   "source": [
    "#for 문 \n",
    "\n",
    "# for 원소 변수 in container :\n",
    "#   변소를 이용한 코드\n",
    "#   나의 상태는 변수에 입력된 상태\n",
    "num=1\n",
    "print(num)\n",
    "num=2\n",
    "print(num)\n",
    "num=3\n",
    "print(num)\n",
    "num=4\n",
    "print(num)\n"
   ]
  },
  {
   "cell_type": "code",
   "execution_count": 62,
   "metadata": {},
   "outputs": [
    {
     "name": "stdout",
     "output_type": "stream",
     "text": [
      "1\n",
      "2\n",
      "3\n",
      "4\n",
      "5\n"
     ]
    }
   ],
   "source": [
    "for num in [1,2,3,4,5]:  # < - 리스트는 순서가 존재하기에 1 ~ 들어감ㅎㅎ\n",
    "    #num =5 1 ~ 4까지 num에 할당이 된다. \n",
    "    print(num)\n",
    "    \n",
    "    \n",
    "\n",
    "\n"
   ]
  },
  {
   "cell_type": "code",
   "execution_count": 75,
   "metadata": {},
   "outputs": [
    {
     "name": "stdout",
     "output_type": "stream",
     "text": [
      "n번쨰 학생 j 있니?\n",
      "n번쨰 학생 a 있니?\n",
      "n번쨰 학생 k 있니?\n",
      "1번째 학생 j있나!\n",
      "2번째 학생 a있나!\n",
      "3번째 학생 k있나!\n"
     ]
    }
   ],
   "source": [
    "names = ['j','a','k']\n",
    "\n",
    "for i in names: # names라는 수열을 넣을 수있다. 인덱스를 활용\n",
    "    print(f'n번쨰 학생 {i} 있니?')\n",
    "\n",
    " \n",
    "for index  in range(len(names)):  # index와 value 둘다 사용이 가능하다.....\n",
    "    name= names[index]\n",
    "    print(f'{index+1}번째 학생 {name}있나!')"
   ]
  },
  {
   "cell_type": "code",
   "execution_count": 76,
   "metadata": {},
   "outputs": [
    {
     "name": "stdout",
     "output_type": "stream",
     "text": [
      "0 j\n",
      "1 a\n",
      "2 k\n"
     ]
    }
   ],
   "source": [
    "for index, name in enumerate(names): #\n",
    "    print(index,name)"
   ]
  },
  {
   "cell_type": "code",
   "execution_count": 96,
   "metadata": {},
   "outputs": [
    {
     "name": "stdout",
     "output_type": "stream",
     "text": [
      "2\n",
      "4\n",
      "c 6\n",
      "d 8\n",
      "10\n"
     ]
    }
   ],
   "source": [
    "a = ['a','b','c','d']\n",
    "index=0\n",
    "\n",
    "for i in range(2,11,2):\n",
    "    print(i)\n",
    "    index+=1\n",
    "    if index>=2 and index<4:\n",
    "        print(a[index],end=' ')\n"
   ]
  },
  {
   "cell_type": "code",
   "execution_count": 104,
   "metadata": {},
   "outputs": [
    {
     "name": "stdout",
     "output_type": "stream",
     "text": [
      "[3, 6, 9]\n"
     ]
    }
   ],
   "source": [
    "lst = []\n",
    "for num in [1,2,3]:\n",
    "    lst.append(num*3)\n",
    "\n",
    "print(lst)"
   ]
  },
  {
   "cell_type": "code",
   "execution_count": 116,
   "metadata": {},
   "outputs": [],
   "source": [
    "lst=[]\n",
    "for _ in range(4):\n",
    "    lst.append(1)\n",
    "    lst.append(2)"
   ]
  },
  {
   "cell_type": "code",
   "execution_count": 118,
   "metadata": {},
   "outputs": [
    {
     "data": {
      "text/plain": [
       "[1, 2, 1, 2, 1, 2, 1, 2]"
      ]
     },
     "execution_count": 118,
     "metadata": {},
     "output_type": "execute_result"
    }
   ],
   "source": [
    "lst"
   ]
  },
  {
   "cell_type": "code",
   "execution_count": 119,
   "metadata": {},
   "outputs": [],
   "source": [
    "for i in range(1,5):\n",
    "    lst.append(i)"
   ]
  },
  {
   "cell_type": "code",
   "execution_count": 121,
   "metadata": {},
   "outputs": [
    {
     "name": "stdout",
     "output_type": "stream",
     "text": [
      "1\n",
      "2\n",
      "3\n",
      "4\n",
      "5\n"
     ]
    }
   ],
   "source": [
    "#원소 사용 하나씩 빼면서 그 원소를 사용\n",
    "#range(n)에 대해서 n번 반복\n",
    "#condition이 True, 횟수가 정해지지 않은 경우에!!!\n",
    "#for문 뺴고 안쓸때 전부 다!!!!\n",
    "# while if + 반복이라고 생각하면 된다\n",
    "cnt=0\n",
    "while cnt<5: # if == True면 실행 아니면 False 가 while이라고 생각하면 편함\n",
    "    cnt+=1\n",
    "    print(cnt)\n",
    "    "
   ]
  },
  {
   "cell_type": "code",
   "execution_count": null,
   "metadata": {},
   "outputs": [],
   "source": []
  },
  {
   "cell_type": "code",
   "execution_count": null,
   "metadata": {},
   "outputs": [],
   "source": []
  },
  {
   "cell_type": "code",
   "execution_count": null,
   "metadata": {},
   "outputs": [],
   "source": []
  },
  {
   "cell_type": "code",
   "execution_count": null,
   "metadata": {},
   "outputs": [],
   "source": []
  },
  {
   "cell_type": "code",
   "execution_count": null,
   "metadata": {},
   "outputs": [],
   "source": []
  }
 ],
 "metadata": {
  "kernelspec": {
   "display_name": "Python 3",
   "language": "python",
   "name": "python3"
  },
  "language_info": {
   "codemirror_mode": {
    "name": "ipython",
    "version": 3
   },
   "file_extension": ".py",
   "mimetype": "text/x-python",
   "name": "python",
   "nbconvert_exporter": "python",
   "pygments_lexer": "ipython3",
   "version": "3.11.4"
  },
  "orig_nbformat": 4
 },
 "nbformat": 4,
 "nbformat_minor": 2
}
