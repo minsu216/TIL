{
 "cells": [
  {
   "cell_type": "code",
   "execution_count": 18,
   "metadata": {},
   "outputs": [
    {
     "name": "stdout",
     "output_type": "stream",
     "text": [
      "1\n",
      "1\n",
      "2\n",
      "True\n",
      "True\n",
      "\n",
      "\n",
      "False\n",
      "True\n"
     ]
    }
   ],
   "source": [
    "num=1 # 숫자\n",
    "\n",
    "num_str = '1' # 문자로 판단\n",
    "num_str = str(1) # 형변환(Data Type) -> 자료형 변환\n",
    "# IDE 구분 -> 통합 개발 환경 (text editor)\n",
    "# Vs code, pycharm 등 -> IDE\n",
    "# String이라고하는 영어의 줄임말이라고 한다!\n",
    "# 숫자를 문자로 변환 가능!\n",
    "# 문자를 숫자로 변환 가능!\n",
    "\n",
    "# 정수 -> integer (int)\n",
    "# 실수 -> float\n",
    "\n",
    "str(num) #형변환 -> 문자열\n",
    "int(num_str) # 형변환 -> 정수형\n",
    "float(num_str) # 형변환 -> 실수형\n",
    "# float 실수 부동 소수점 -> 4.537123 * 10^3\n",
    "# 부동 소수점 -> 소수점이 떠서 움직인다.(10^n승의 형태)\n",
    "# 숫자와 문자열간의 변화를 나타냄!\n",
    "# 사용자에게 입력을 받을 경우! id or password를 받게됨\n",
    "# 이때 terminal이라는 걸 사용할 수 있다.->프로그램과 사용자간의 소통\n",
    "print(num)\n",
    "print(num_str) #print는 terminal에게 보여주는 함수!\n",
    "\n",
    "\n",
    "# input_num = int(input()) # 모든걸 string으로 표현한다.\n",
    "# input_num2 = int(input()) # \n",
    "# #숫자두개를 터미널로부터 입력받고 더하고싶다면!\n",
    "#input은 터미널에서 입력한걸 변수에다가 저장하는 역할\n",
    "print(input_num + input_num2)\n",
    "#입력에 대한 내용이다!\n",
    "\n",
    "print(bool('1'))\n",
    "print(bool(1))\n",
    "\n",
    "# bool은 0만 False 나머지는 전부 True이다 \n",
    "\n",
    "print()\n",
    "print('') # 없는 빈 문자열\n",
    "print(bool(''))# 없는 , 문자열-> True\n",
    "print(bool(' ')) # True -> 비어있지않다!!\n",
    "\n",
    "# 주석은 코드 실행에 영향 X이다.\n",
    "# 코드의 설명을 듣기위해 사용한다.\n",
    "# Ctrl+/로도 쉽게 사용이가능하다.\n",
    "\n"
   ]
  },
  {
   "cell_type": "code",
   "execution_count": 24,
   "metadata": {},
   "outputs": [
    {
     "name": "stdout",
     "output_type": "stream",
     "text": [
      "2 1\n"
     ]
    }
   ],
   "source": [
    "num =1 \n",
    "# const num =1 # num을 상수로써 사용하겠다 \n",
    "# int num =1 # num을정수로 사용하겠다.\n",
    "#코드가 엄청 길어지면 헷갈릴수 있기에 선언이 필요할 수 도있찌만\n",
    "#파이썬은 사용자의 편의성\n",
    "#값을 집어넣은것을 할당이라고한다.\n",
    "num1 = 1\n",
    "num2 =  2 #재할당\n",
    "\n",
    "# tmp= num1\n",
    "# num2 = num1\n",
    "# num1= tmp\n",
    "# print(num1,num2)\n",
    "num1, num2 = num2, num1 #돋시할당\n",
    "print(num1,num2)"
   ]
  },
  {
   "cell_type": "code",
   "execution_count": 32,
   "metadata": {},
   "outputs": [
    {
     "name": "stdout",
     "output_type": "stream",
     "text": [
      "1.6666666666666667\n",
      "1\n",
      "2\n",
      "125\n"
     ]
    }
   ],
   "source": [
    "print(5/3) # 1.333333333333333333333 (무한 소수형태) 실수의 형태이기에 잘 사용 X \n",
    "print(5//3) # 몫\n",
    "print(5%3) # 나머지\n",
    "# 숫자 = ax+b\n",
    "# 5 = 1*3 +2  --> 1은 몫 2는 나머지\n",
    "# 나누기에대한 산술연산자가 존재한다!\n",
    "\n",
    "#제곱 (**)\n",
    "print(5**3) # 5*5*5"
   ]
  },
  {
   "cell_type": "code",
   "execution_count": 30,
   "metadata": {},
   "outputs": [],
   "source": [
    "# 복합 연산자\n",
    "# 저장을 하는 이유는 사용하기 위해서!!!! A 가 있고, A에다가 B를 더한 숫자를 A에다가 다시 저장하고 싶은 경우가 있음\n",
    "count=0\n",
    "# count = count+1  -> count를 한번 더 사용함 count를 위에서 찾아다가 사용해서 계산된 것이 count에 다시 들어간다.\n",
    "count+=1 # 복합 연산자"
   ]
  },
  {
   "cell_type": "code",
   "execution_count": 56,
   "metadata": {},
   "outputs": [
    {
     "name": "stdout",
     "output_type": "stream",
     "text": [
      "그거를 살꺼야!\n"
     ]
    }
   ],
   "source": [
    "#if\n",
    "# 어떤 조건 하에 실행 여부를 판단하는 .. Expression\n",
    "# 조건은 맞거나 틀리거나 둘중하나의 가능성 -> T,F Boolean 형태로 판단한다.\n",
    "# 만약 돈이 1000원보다 많으면 그걸 살꺼야!\n",
    "# 만약 돈이 1000원보다 적으면 그걸 못살거야\n",
    "money=2000\n",
    "if money > 1000 :  # -> boolean T, F가 올 수 있다. \n",
    "    print('그거를 살꺼야!')\n",
    "\n",
    "if money<1000:\n",
    "    print('그거를 못살꺼야!')\n",
    "\n",
    "# if 조건 : T,F로 형변환이 가능한 것들이 들어간다.\n",
    "# if 조건 : T일 때 4칸 뛴 실행문이 실행 F는 실행 X\n",
    "# 코드는 위에서 아래로 실행되기에 "
   ]
  },
  {
   "cell_type": "code",
   "execution_count": 63,
   "metadata": {},
   "outputs": [
    {
     "name": "stdout",
     "output_type": "stream",
     "text": [
      "이거 프린트 될까요?\n"
     ]
    }
   ],
   "source": [
    "if '거짓': # bool('거짓') -> True가 된다!\n",
    "    print('이거 프린트 될까요?')\n",
    "\n",
    "if '':\n",
    "    print('안됩니다.')\n",
    "\n",
    "\n",
    "if 0: #bool(0)이라서 안된다 False가 출력된다!\n",
    "    print('?')"
   ]
  },
  {
   "cell_type": "code",
   "execution_count": 68,
   "metadata": {},
   "outputs": [
    {
     "name": "stdout",
     "output_type": "stream",
     "text": [
      "condition이 False 인 경우에 실행이된다!\n"
     ]
    }
   ],
   "source": [
    "condition=''\n",
    "if condition : #T , F의 형태인 Boolean형태를 가져온다 자연스레 형변환!!\n",
    "    print('condition이 True 인 경우 실행')\n",
    "else: # 조건이 붙지않는 이유는 T,F 두가지 경우이기에 \n",
    "    print('condition이 False 인 경우에 실행이된다!')"
   ]
  },
  {
   "cell_type": "code",
   "execution_count": 88,
   "metadata": {},
   "outputs": [
    {
     "name": "stdout",
     "output_type": "stream",
     "text": [
      "보통\n"
     ]
    }
   ],
   "source": [
    "#학점\n",
    "\n",
    "dust = int(input())\n",
    "\n",
    "if dust >= 76 :\n",
    "    print('매우나쁨')\n",
    "elif dust >=36 and dust <= 75:\n",
    "    print('나쁨')\n",
    "elif dust>=16 and dust <=35 :\n",
    "    print('보통')\n",
    "else :\n",
    "    print('좋음')\n"
   ]
  },
  {
   "cell_type": "code",
   "execution_count": 96,
   "metadata": {},
   "outputs": [
    {
     "name": "stdout",
     "output_type": "stream",
     "text": [
      "1 * 1 = 1\n",
      "1 * 2 = 2\n",
      "1 * 3 = 3\n",
      "1 * 4 = 4\n",
      "1 * 5 = 5\n",
      "1 * 6 = 6\n",
      "1 * 7 = 7\n",
      "1 * 8 = 8\n",
      "1 * 9 = 9\n",
      "2 * 1 = 2\n",
      "2 * 2 = 4\n",
      "2 * 3 = 6\n",
      "2 * 4 = 8\n",
      "2 * 5 = 10\n",
      "2 * 6 = 12\n",
      "2 * 7 = 14\n",
      "2 * 8 = 16\n",
      "2 * 9 = 18\n",
      "3 * 1 = 3\n",
      "3 * 2 = 6\n",
      "3 * 3 = 9\n",
      "3 * 4 = 12\n",
      "3 * 5 = 15\n",
      "3 * 6 = 18\n",
      "3 * 7 = 21\n",
      "3 * 8 = 24\n",
      "3 * 9 = 27\n",
      "4 * 1 = 4\n",
      "4 * 2 = 8\n",
      "4 * 3 = 12\n",
      "4 * 4 = 16\n",
      "4 * 5 = 20\n",
      "4 * 6 = 24\n",
      "4 * 7 = 28\n",
      "4 * 8 = 32\n",
      "4 * 9 = 36\n",
      "5 * 1 = 5\n",
      "5 * 2 = 10\n",
      "5 * 3 = 15\n",
      "5 * 4 = 20\n",
      "5 * 5 = 25\n",
      "5 * 6 = 30\n",
      "5 * 7 = 35\n",
      "5 * 8 = 40\n",
      "5 * 9 = 45\n",
      "6 * 1 = 6\n",
      "6 * 2 = 12\n",
      "6 * 3 = 18\n",
      "6 * 4 = 24\n",
      "6 * 5 = 30\n",
      "6 * 6 = 36\n",
      "6 * 7 = 42\n",
      "6 * 8 = 48\n",
      "6 * 9 = 54\n",
      "7 * 1 = 7\n",
      "7 * 2 = 14\n",
      "7 * 3 = 21\n",
      "7 * 4 = 28\n",
      "7 * 5 = 35\n",
      "7 * 6 = 42\n",
      "7 * 7 = 49\n",
      "7 * 8 = 56\n",
      "7 * 9 = 63\n",
      "8 * 1 = 8\n",
      "8 * 2 = 16\n",
      "8 * 3 = 24\n",
      "8 * 4 = 32\n",
      "8 * 5 = 40\n",
      "8 * 6 = 48\n",
      "8 * 7 = 56\n",
      "8 * 8 = 64\n",
      "8 * 9 = 72\n",
      "9 * 1 = 9\n",
      "9 * 2 = 18\n",
      "9 * 3 = 27\n",
      "9 * 4 = 36\n",
      "9 * 5 = 45\n",
      "9 * 6 = 54\n",
      "9 * 7 = 63\n",
      "9 * 8 = 72\n",
      "9 * 9 = 81\n"
     ]
    }
   ],
   "source": []
  },
  {
   "cell_type": "code",
   "execution_count": null,
   "metadata": {},
   "outputs": [],
   "source": []
  },
  {
   "cell_type": "code",
   "execution_count": null,
   "metadata": {},
   "outputs": [],
   "source": []
  },
  {
   "cell_type": "code",
   "execution_count": null,
   "metadata": {},
   "outputs": [],
   "source": []
  },
  {
   "cell_type": "code",
   "execution_count": null,
   "metadata": {},
   "outputs": [],
   "source": []
  },
  {
   "cell_type": "code",
   "execution_count": null,
   "metadata": {},
   "outputs": [],
   "source": []
  },
  {
   "cell_type": "code",
   "execution_count": null,
   "metadata": {},
   "outputs": [],
   "source": []
  }
 ],
 "metadata": {
  "kernelspec": {
   "display_name": "Python 3",
   "language": "python",
   "name": "python3"
  },
  "language_info": {
   "codemirror_mode": {
    "name": "ipython",
    "version": 3
   },
   "file_extension": ".py",
   "mimetype": "text/x-python",
   "name": "python",
   "nbconvert_exporter": "python",
   "pygments_lexer": "ipython3",
   "version": "3.11.4"
  },
  "orig_nbformat": 4
 },
 "nbformat": 4,
 "nbformat_minor": 2
}
