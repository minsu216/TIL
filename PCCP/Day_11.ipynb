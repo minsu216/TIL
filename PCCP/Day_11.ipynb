{
 "cells": [
  {
   "cell_type": "code",
   "execution_count": 1,
   "metadata": {},
   "outputs": [
    {
     "name": "stdout",
     "output_type": "stream",
     "text": [
      "hi\n"
     ]
    }
   ],
   "source": [
    "print('hi')"
   ]
  },
  {
   "cell_type": "code",
   "execution_count": 12,
   "metadata": {},
   "outputs": [
    {
     "name": "stdout",
     "output_type": "stream",
     "text": [
      "\n",
      "\n",
      "\n",
      "\n",
      "\n",
      "\n"
     ]
    },
    {
     "data": {
      "text/plain": [
       "[1, 2, 3, None, 5, 6, 7, None, 9, 10, 11, None, 13, 14, 15]"
      ]
     },
     "execution_count": 12,
     "metadata": {},
     "output_type": "execute_result"
    }
   ],
   "source": [
    "[print('\\n') if i%4==0 else i for i in range(1,16)]"
   ]
  },
  {
   "cell_type": "code",
   "execution_count": 44,
   "metadata": {},
   "outputs": [
    {
     "data": {
      "text/plain": [
       "[[1, 2, 3, 4], [5, 6, 7, 8], [9, 10, 11, 12], [13, 14, 15, 16]]"
      ]
     },
     "execution_count": 44,
     "metadata": {},
     "output_type": "execute_result"
    }
   ],
   "source": [
    "#1\n",
    "\n",
    "result2=[]\n",
    "i=1\n",
    "for _ in range(4):\n",
    "    result=[]\n",
    "    for _ in range(4):\n",
    "        result.append(i)\n",
    "        i+=1\n",
    "    result2.append(result)\n",
    "result2"
   ]
  },
  {
   "cell_type": "code",
   "execution_count": 50,
   "metadata": {},
   "outputs": [
    {
     "data": {
      "text/plain": [
       "[[1, 2, 3, 4], [5, 6, 7, 8], [9, 10, 11, 12], [13, 14, 15, 16]]"
      ]
     },
     "execution_count": 50,
     "metadata": {},
     "output_type": "execute_result"
    }
   ],
   "source": [
    "mat=[[0]*4 for _ in range(4)]\n",
    "num=1\n",
    "for i in range(4):\n",
    "    for index in range(4):\n",
    "        mat[i][index]=num\n",
    "        num+=1\n",
    "mat"
   ]
  },
  {
   "cell_type": "code",
   "execution_count": null,
   "metadata": {},
   "outputs": [],
   "source": []
  },
  {
   "cell_type": "code",
   "execution_count": null,
   "metadata": {},
   "outputs": [],
   "source": []
  },
  {
   "cell_type": "code",
   "execution_count": 45,
   "metadata": {},
   "outputs": [
    {
     "name": "stdout",
     "output_type": "stream",
     "text": [
      "[[1, 4, 9, 16], [25, 36, 49, 64], [81, 100, 121, 144], [169, 196, 225, 256]]\n"
     ]
    }
   ],
   "source": [
    "i=1\n",
    "re2=[]\n",
    "for _ in range(4):\n",
    "    re=[]\n",
    "    for _ in range(4):\n",
    "        re.append(i**2)\n",
    "        i+=1\n",
    "    re2.append(re)\n",
    "print(re2)"
   ]
  },
  {
   "cell_type": "code",
   "execution_count": 51,
   "metadata": {},
   "outputs": [
    {
     "data": {
      "text/plain": [
       "[[1, 4, 9, 16], [25, 36, 49, 64], [81, 100, 121, 144], [169, 196, 225, 256]]"
      ]
     },
     "execution_count": 51,
     "metadata": {},
     "output_type": "execute_result"
    }
   ],
   "source": [
    "mat=[[0]*4 for _ in range(4)]\n",
    "num=1\n",
    "for i in range(4):\n",
    "    for index in range(4):\n",
    "        mat[i][index]=num**2\n",
    "        num+=1\n",
    "mat"
   ]
  },
  {
   "cell_type": "code",
   "execution_count": 63,
   "metadata": {},
   "outputs": [
    {
     "data": {
      "text/plain": [
       "[[0, 2, 6], [12, 20, 30], [42, 56, 72]]"
      ]
     },
     "execution_count": 63,
     "metadata": {},
     "output_type": "execute_result"
    }
   ],
   "source": [
    "#3번\n",
    "num=0\n",
    "re2=[]\n",
    "i=2\n",
    "for _ in range(3):\n",
    "    re=[]\n",
    "    for _ in range(3):\n",
    "        re.append(num)\n",
    "        num=num+i\n",
    "        i=i+2\n",
    "    re2.append(re)\n",
    "\n",
    "re2\n",
    "\n"
   ]
  },
  {
   "cell_type": "code",
   "execution_count": 72,
   "metadata": {},
   "outputs": [
    {
     "data": {
      "text/plain": [
       "[[0, 2, 6], [12, 20, 30], [42, 56, 72]]"
      ]
     },
     "execution_count": 72,
     "metadata": {},
     "output_type": "execute_result"
    }
   ],
   "source": [
    "#3번\n",
    "mat= [[0]*3 for _ in range(3)]\n",
    "k=2\n",
    "re2=[]\n",
    "\n",
    "num=0\n",
    "for i in range(3):\n",
    "    re=[]\n",
    "    for j in range(3):\n",
    "        mat[i][j]=num\n",
    "        num=num+k\n",
    "        k=k+2\n",
    "mat\n",
    "\n",
    "# 0 2 6 # 0 2 4 6 8 ...\n",
    "# 12 .. "
   ]
  },
  {
   "cell_type": "code",
   "execution_count": 77,
   "metadata": {},
   "outputs": [
    {
     "data": {
      "text/plain": [
       "[0, 2, 6, 12, 20, 30, 42, 56, 72]"
      ]
     },
     "execution_count": 77,
     "metadata": {},
     "output_type": "execute_result"
    }
   ],
   "source": [
    "num=0\n",
    "\n",
    "[mat[j][i] for j in range(3) for i in range(3)]"
   ]
  },
  {
   "cell_type": "code",
   "execution_count": 103,
   "metadata": {},
   "outputs": [
    {
     "data": {
      "text/plain": [
       "[[1, 2, 3, 4], [8, 7, 6, 5], [9, 10, 11, 12], [16, 15, 14, 13]]"
      ]
     },
     "execution_count": 103,
     "metadata": {},
     "output_type": "execute_result"
    }
   ],
   "source": [
    "#4번\n",
    "# 1234\n",
    "# 8765\n",
    "# ...\n",
    "# 00 01 02 03 -> 13 12 11 10 -> 20 21 22 23 .... \n",
    "\n",
    "num=1\n",
    "n = 4\n",
    "mat=[[0]*n for _ in range(n)]\n",
    "k=0\n",
    "l=n\n",
    "p=1\n",
    "for i in range(n):\n",
    "    for j in range(k,l,p):# 5 -1 -1 \n",
    "        mat[i][j]=num\n",
    "        num+=1\n",
    "        if j==l-1:# 5\n",
    "            k=l-1\n",
    "            l=-1\n",
    "            p=-1\n",
    "        else:\n",
    "            k=0\n",
    "            l=n\n",
    "            p=1\n",
    "\n",
    "mat\n"
   ]
  },
  {
   "cell_type": "code",
   "execution_count": 106,
   "metadata": {},
   "outputs": [
    {
     "data": {
      "text/plain": [
       "[[1, 2, 3, 4], [8, 7, 6, 5], [9, 10, 11, 12], [16, 15, 14, 13]]"
      ]
     },
     "execution_count": 106,
     "metadata": {},
     "output_type": "execute_result"
    }
   ],
   "source": [
    "mat = [[0]*4 for _ in range(4)]\n",
    "num=1\n",
    "\n",
    "for i in range(4):\n",
    "    if i%2 ==0:\n",
    "        for j in range(4):\n",
    "            mat[i][j]=num\n",
    "            num+=1\n",
    "    else:\n",
    "        for j in range(4):\n",
    "            mat[i][3-j]=num\n",
    "            num+=1\n",
    "\n",
    "mat"
   ]
  },
  {
   "cell_type": "code",
   "execution_count": 105,
   "metadata": {},
   "outputs": [
    {
     "name": "stdout",
     "output_type": "stream",
     "text": [
      "0\n",
      "1\n",
      "2\n",
      "3\n",
      "4\n",
      "5\n",
      "6\n",
      "7\n",
      "8\n",
      "9\n",
      "10\n",
      "11\n",
      "12\n",
      "13\n",
      "14\n",
      "15\n",
      "16\n",
      "17\n",
      "18\n",
      "19\n",
      "20\n",
      "21\n",
      "22\n",
      "23\n",
      "24\n"
     ]
    }
   ],
   "source": [
    "\n",
    "\n",
    "#1 2 3 4 5  00 01 02 03 04\n",
    "#                       14\n",
    "\n",
    "result=[]\n",
    "num=1\n",
    "n=5\n",
    "k=1+n\n",
    "for i in range(n):\n",
    "    for j in range(n):\n",
    "        print(i*n+j)\n",
    "        \n"
   ]
  },
  {
   "cell_type": "code",
   "execution_count": null,
   "metadata": {},
   "outputs": [],
   "source": []
  }
 ],
 "metadata": {
  "kernelspec": {
   "display_name": "Python 3",
   "language": "python",
   "name": "python3"
  },
  "language_info": {
   "codemirror_mode": {
    "name": "ipython",
    "version": 3
   },
   "file_extension": ".py",
   "mimetype": "text/x-python",
   "name": "python",
   "nbconvert_exporter": "python",
   "pygments_lexer": "ipython3",
   "version": "3.11.4"
  },
  "orig_nbformat": 4
 },
 "nbformat": 4,
 "nbformat_minor": 2
}
