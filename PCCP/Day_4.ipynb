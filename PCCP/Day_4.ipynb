{
 "cells": [
  {
   "cell_type": "code",
   "execution_count": 6,
   "metadata": {},
   "outputs": [
    {
     "data": {
      "text/plain": [
       "[3, 6, 9]"
      ]
     },
     "execution_count": 6,
     "metadata": {},
     "output_type": "execute_result"
    }
   ],
   "source": [
    "[num*3 for num in range(1,4)]"
   ]
  },
  {
   "cell_type": "code",
   "execution_count": 9,
   "metadata": {},
   "outputs": [
    {
     "name": "stdout",
     "output_type": "stream",
     "text": [
      "3\n",
      "6\n",
      "9\n"
     ]
    }
   ],
   "source": [
    "lst=[]\n",
    "for num in range(1,4):\n",
    "    lst =[] # 반복 안에다가 만들면 틀립니다!\n",
    "    print(num*3)"
   ]
  },
  {
   "cell_type": "code",
   "execution_count": 14,
   "metadata": {},
   "outputs": [
    {
     "name": "stdout",
     "output_type": "stream",
     "text": [
      "3\n",
      "6\n",
      "9\n"
     ]
    },
    {
     "data": {
      "text/plain": [
       "[3, 6, 9]"
      ]
     },
     "execution_count": 14,
     "metadata": {},
     "output_type": "execute_result"
    }
   ],
   "source": [
    "# 샌드위치 코딩법\n",
    "# [3,6,9,12,15..]등등 반복문이라는 걸 사용해서 같은 규칙성... \n",
    "# 그릇을 만들자!!\n",
    "lst=[] #1\n",
    "for num in range(1,4):#2 \n",
    "    print(num*3) #3\n",
    "    lst.append(num * 3) #4\n",
    "lst #5 "
   ]
  },
  {
   "cell_type": "code",
   "execution_count": 36,
   "metadata": {},
   "outputs": [],
   "source": [
    "# for이라는 반복문, while이라는 반복문의 차이\n",
    "# for과 while은 반복을 진행한다. -> 코드 뭉치가 있을때 반복한다. 특정 조건이나 변수를 변경하면서 반복하는게 자연스럽다아\n",
    "# 3,6,9라는 걸 만들 때 1,2,3이라는 3가지 숫자가 변경된 상태에서 특정코드 진행! \n",
    "# for은 Container에 대해서 반복을 진행한다. container은 여러개의 데이터가 들어있는 자료 구조라고 보면 된다.\n",
    "# 여러 개의 데이터에서 하나씩 뽑아서 그 데이터를 특정 변수에 저장 후 반복을 진행한다.\n",
    "# set,dictionary는 상관없이 \n",
    "\n",
    "# while은 특정 조건에 따라 진행을 한다. \n",
    "# True False가 존재하는 Boolean 형태이면 가능하다.\n",
    "# (무한 루프 조심해야된다.!!)\n",
    "# 개수가 정해져있다. 정해진 개수만큼 돈다는 특징을 가지고 있다 .\n",
    "# while은 조건이 계속해서 바껴야된다는 특징을 가지고 있다. (언젠가는 멈춘다.)\n",
    "# 즉 반복이 멈추기 위해서는 조건이 변경되어야 한다!.\n",
    "# 숫자 1,2,3,4,5를 출력해라 for num in range(1,6): print(num)\n",
    "# 우린 Sum 숫자가 필요, 반복문은 Container에서 뽑아서 넣어줌, 그러나 while은 다름"
   ]
  },
  {
   "cell_type": "code",
   "execution_count": 41,
   "metadata": {},
   "outputs": [
    {
     "name": "stdout",
     "output_type": "stream",
     "text": [
      "2\n",
      "3\n",
      "4\n",
      "5\n"
     ]
    }
   ],
   "source": [
    "num=1\n",
    "# while num<5: # 5에서 멈춰 !! condition은 계속해서 가게되는 continue조건이 명시됨 따라서 x<5이면 실행해라는 의미로 나타낸다!!\n",
    "#     print(num) #우리는 5보다 작을때 실행하라고 하지만 num의 조건이 print로 되기에 부등호를 추가를 해줘야! 한! 다! \n",
    "#     num+=1\n",
    "\n",
    "while num<5: # == a\n",
    "    num+=1 \n",
    "    print(num)\n",
    "\n",
    "# break는 반복을 멈추는 작용을 합니다.\n",
    "# for문에서 5가 나올 떄 멈추라고 함..\n",
    "# sum 조건이 필요하다! \n",
    "# break는 if문이 필요하다!\n"
   ]
  },
  {
   "cell_type": "code",
   "execution_count": 46,
   "metadata": {},
   "outputs": [
    {
     "name": "stdout",
     "output_type": "stream",
     "text": [
      "1\n",
      "2\n",
      "3\n",
      "4\n",
      "5\n"
     ]
    }
   ],
   "source": [
    "# break\n",
    "# 반복을 멈추는 작용을 함!\n",
    "num=0\n",
    "while True:\n",
    "    num+=1\n",
    "    print(num)\n",
    "    if num ==5:  break # <= not a\n",
    "\n"
   ]
  },
  {
   "cell_type": "code",
   "execution_count": 47,
   "metadata": {},
   "outputs": [
    {
     "name": "stdout",
     "output_type": "stream",
     "text": [
      "j\n",
      "a\n",
      "k\n"
     ]
    }
   ],
   "source": [
    "# for 문은 container라는 조건이 필요함 while은 for문이 하는 모든걸 대체가능하다!!!\n",
    "names =['j','a','k']\n",
    "for name in names:\n",
    "    print(name)"
   ]
  },
  {
   "cell_type": "code",
   "execution_count": 50,
   "metadata": {},
   "outputs": [
    {
     "name": "stdout",
     "output_type": "stream",
     "text": [
      "j\n",
      "a\n",
      "k\n"
     ]
    }
   ],
   "source": [
    "index=0\n",
    "name = ['j','a','k']\n",
    "while 1:\n",
    "    name = names[index]\n",
    "    print(name)\n",
    "    index+=1\n",
    "    if len(names)==index:\n",
    "        break"
   ]
  },
  {
   "cell_type": "code",
   "execution_count": 56,
   "metadata": {},
   "outputs": [
    {
     "name": "stdout",
     "output_type": "stream",
     "text": [
      "2\n",
      "4\n"
     ]
    }
   ],
   "source": [
    "# 숫자가 2, 4면 출력하고 숫자가 1,3이면 출력 x\n",
    "for i in range(1,5):\n",
    "    if i==2 or i==4: \n",
    "        print(i) # \n",
    "    else:\n",
    "        continue #하지마라라고 판단하면됨"
   ]
  },
  {
   "cell_type": "code",
   "execution_count": 58,
   "metadata": {},
   "outputs": [],
   "source": [
    "dic = { \n",
    "    \"name\" : 'jun',\n",
    "    'age' : 18,\n",
    "    'gender' : 'M'\n",
    "}"
   ]
  },
  {
   "cell_type": "code",
   "execution_count": 61,
   "metadata": {},
   "outputs": [
    {
     "data": {
      "text/plain": [
       "{'name': 'jun', 'age': 18, 'gender': 'M'}"
      ]
     },
     "execution_count": 61,
     "metadata": {},
     "output_type": "execute_result"
    }
   ],
   "source": [
    "dic"
   ]
  },
  {
   "cell_type": "code",
   "execution_count": 66,
   "metadata": {},
   "outputs": [
    {
     "name": "stdout",
     "output_type": "stream",
     "text": [
      "name\n",
      "jun\n",
      "age\n",
      "18\n",
      "gender\n",
      "M\n",
      "height\n",
      "188\n"
     ]
    }
   ],
   "source": [
    "dic['name'] # 데이터 선언\n",
    "dic['height']=188 # 데이터 저장\n",
    "for key in dic: # i에서는 Key가 저장이 됩니다!\n",
    "    print(key) \n",
    "    print(dic[key])"
   ]
  },
  {
   "cell_type": "code",
   "execution_count": 69,
   "metadata": {},
   "outputs": [
    {
     "name": "stdout",
     "output_type": "stream",
     "text": [
      "jun\n",
      "18\n",
      "M\n",
      "188\n"
     ]
    }
   ],
   "source": [
    "for i in dic.values():\n",
    "    print(i)"
   ]
  },
  {
   "cell_type": "code",
   "execution_count": 75,
   "metadata": {},
   "outputs": [
    {
     "name": "stdout",
     "output_type": "stream",
     "text": [
      "('name', 'jun')\n",
      "('age', 18)\n",
      "('gender', 'M')\n",
      "('height', 188)\n"
     ]
    }
   ],
   "source": [
    "for i in dic.items():\n",
    "    print(i)"
   ]
  },
  {
   "cell_type": "markdown",
   "metadata": {},
   "source": [
    "# 1.\n",
    "# names = ['jun', 'alex', 'ken'] 일 때,\n",
    "#\n",
    "# 0번째 손님 : jun\n",
    "# 1번째 손님 : alex\n",
    "# 2번째 손님 : ken\n",
    "# 을 출력하시오. 단, for, while을 활용하여 2번 작성하시오."
   ]
  },
  {
   "cell_type": "code",
   "execution_count": 80,
   "metadata": {},
   "outputs": [
    {
     "name": "stdout",
     "output_type": "stream",
     "text": [
      "0번쨰 손님 : jun\n",
      "1번쨰 손님 : alex\n",
      "2번쨰 손님 : ken\n",
      " \n",
      "0번째 손님 : jun\n",
      "1번째 손님 : alex\n",
      "2번째 손님 : ken\n"
     ]
    }
   ],
   "source": [
    "names=['jun','alex','ken']\n",
    "\n",
    "for i in range(len(names)):\n",
    "    print(f'{i}번쨰 손님 : {names[i]}')\n",
    "print(' ')\n",
    "num=0\n",
    "while num<len(names):\n",
    "    print(f'{num}번째 손님 : {names[num]}')\n",
    "    num+=1"
   ]
  },
  {
   "cell_type": "markdown",
   "metadata": {},
   "source": [
    "# 2.\n",
    "# 구구단 3단을 출력하시오. 단, for, while을 활용하여 다양하게 만들어보시오."
   ]
  },
  {
   "cell_type": "code",
   "execution_count": 82,
   "metadata": {},
   "outputs": [
    {
     "name": "stdout",
     "output_type": "stream",
     "text": [
      "3\n",
      "6\n",
      "9\n",
      "3\n",
      "6\n",
      "9\n"
     ]
    }
   ],
   "source": [
    "for i in range(1,4):\n",
    "    print(i*3)\n",
    "\n",
    "j=1\n",
    "while j<4:\n",
    "    print(j*3)\n",
    "    j+=1"
   ]
  },
  {
   "cell_type": "markdown",
   "metadata": {},
   "source": [
    "# 2.a\n",
    "# 40 이하의 3의 배수를 출력하시오(3단의 확장). 반복의 종류는 자유롭게 사용하시오.\n"
   ]
  },
  {
   "cell_type": "code",
   "execution_count": 87,
   "metadata": {},
   "outputs": [
    {
     "name": "stdout",
     "output_type": "stream",
     "text": [
      "3\n",
      "6\n",
      "9\n",
      "12\n",
      "15\n",
      "18\n",
      "21\n",
      "24\n",
      "27\n",
      "30\n",
      "33\n",
      "36\n",
      "39\n"
     ]
    }
   ],
   "source": [
    "for i in range(1,14):\n",
    "    print(i*3)"
   ]
  },
  {
   "cell_type": "markdown",
   "metadata": {},
   "source": [
    "# 3.\n",
    "# 1 ~ 100 중에 7의 배수의 개수를 출력하세요.\n"
   ]
  },
  {
   "cell_type": "code",
   "execution_count": 91,
   "metadata": {},
   "outputs": [
    {
     "name": "stdout",
     "output_type": "stream",
     "text": [
      "14\n"
     ]
    }
   ],
   "source": [
    "count=0\n",
    "for i in range(1,100):\n",
    "    if i*7 > 100 :\n",
    "        break\n",
    "    count+=1\n",
    "print(count)"
   ]
  },
  {
   "cell_type": "code",
   "execution_count": null,
   "metadata": {},
   "outputs": [],
   "source": []
  },
  {
   "cell_type": "markdown",
   "metadata": {},
   "source": [
    "\n",
    "# 4.\n",
    "# lst = [1,2,3,4,5,6,7] 일 때,\n",
    "# 원소가  1, 4, 5, 7인 경우를 제외하고 출력하세요"
   ]
  },
  {
   "cell_type": "code",
   "execution_count": 92,
   "metadata": {},
   "outputs": [
    {
     "name": "stdout",
     "output_type": "stream",
     "text": [
      "2\n",
      "3\n",
      "6\n"
     ]
    }
   ],
   "source": [
    "lst= [1,2,3,4,5,6,7]\n",
    "\n",
    "for i in lst:\n",
    "    if i == 1 or i==4 or i==5 or i==7:\n",
    "        continue\n",
    "    else :\n",
    "        print(i)"
   ]
  },
  {
   "cell_type": "markdown",
   "metadata": {},
   "source": [
    "# 4.\n",
    "# 1 ~ 9 까지의 자연수 중 제곱한 수가 10 이상 50 이하인 자연수의 리스트를 출력해보세요.\n"
   ]
  },
  {
   "cell_type": "code",
   "execution_count": 124,
   "metadata": {},
   "outputs": [
    {
     "data": {
      "text/plain": [
       "[4, 5, 6, 7]"
      ]
     },
     "execution_count": 124,
     "metadata": {},
     "output_type": "execute_result"
    }
   ],
   "source": [
    "lst=[]\n",
    "for i in range(1,10):\n",
    "    if i**2 >=10 and i**2<=50 :\n",
    "        lst.append(i)\n",
    "lst"
   ]
  },
  {
   "cell_type": "code",
   "execution_count": 128,
   "metadata": {},
   "outputs": [
    {
     "name": "stdout",
     "output_type": "stream",
     "text": [
      "4 5 6 7\n"
     ]
    }
   ],
   "source": []
  },
  {
   "cell_type": "markdown",
   "metadata": {},
   "source": [
    "# 5.\n",
    "# n = 17일 때, n이 소수인지 판단하시오. (추가로, n을 입력받아 같은 과정을 반복하시오.)\n",
    "\n"
   ]
  },
  {
   "cell_type": "code",
   "execution_count": 120,
   "metadata": {},
   "outputs": [],
   "source": [
    "import math\n",
    "\n",
    "\n",
    "for i in range(2, int(math.sqrt(x)+1)):\n",
    "    x=int(input())\n",
    "    if x%i ==0:\n",
    "        print('소수 아님')\n",
    "    else:\n",
    "        print('소수')"
   ]
  },
  {
   "cell_type": "code",
   "execution_count": 129,
   "metadata": {},
   "outputs": [
    {
     "ename": "KeyError",
     "evalue": "'1'",
     "output_type": "error",
     "traceback": [
      "\u001b[1;31m---------------------------------------------------------------------------\u001b[0m",
      "\u001b[1;31mKeyError\u001b[0m                                  Traceback (most recent call last)",
      "Cell \u001b[1;32mIn[129], line 12\u001b[0m\n\u001b[0;32m     10\u001b[0m \u001b[39mwhile\u001b[39;00m \u001b[39mTrue\u001b[39;00m:\n\u001b[0;32m     11\u001b[0m     buy \u001b[39m=\u001b[39m \u001b[39minput\u001b[39m(\u001b[39m'\u001b[39m\u001b[39m상품 입력\u001b[39m\u001b[39m'\u001b[39m)\n\u001b[1;32m---> 12\u001b[0m     \u001b[39mif\u001b[39;00m money\u001b[39m>\u001b[39m\u001b[39m=\u001b[39mitem[buy] \u001b[39mand\u001b[39;00m counts[buy] \u001b[39m!=\u001b[39m\u001b[39m0\u001b[39m:\n\u001b[0;32m     13\u001b[0m         \u001b[39mprint\u001b[39m(\u001b[39m'\u001b[39m\u001b[39m구매합니다.\u001b[39m\u001b[39m'\u001b[39m)\n\u001b[0;32m     14\u001b[0m         money\u001b[39m-\u001b[39m\u001b[39m=\u001b[39mitem[buy]\n",
      "\u001b[1;31mKeyError\u001b[0m: '1'"
     ]
    }
   ],
   "source": [
    "item={'환타' : 1000,\n",
    "      '사이다' : 1500,\n",
    "      '콜라' : 2000}\n",
    "\n",
    "counts={'환타' : 1,\n",
    "      '사이다' : 3,\n",
    "      '콜라' : 5}\n",
    "money= int(input('돈을 입력'))\n",
    "i=0\n",
    "while True:\n",
    "    buy = input('상품 입력')\n",
    "    if money>=item[buy] and counts[buy] !=0:\n",
    "        print('구매합니다.')\n",
    "        money-=item[buy]\n",
    "        counts[buy]-=1\n",
    "        i+=1\n",
    "    else:\n",
    "        print('구매가 불가능합니다.')\n",
    "        break\n",
    "    action= input('재고 확인?')\n",
    "    if action =='Y':\n",
    "        print(item)\n",
    "        print()\n",
    "        print(counts)\n",
    "\n",
    "    if i==3:\n",
    "        break"
   ]
  },
  {
   "cell_type": "code",
   "execution_count": null,
   "metadata": {},
   "outputs": [],
   "source": []
  }
 ],
 "metadata": {
  "kernelspec": {
   "display_name": "Python 3",
   "language": "python",
   "name": "python3"
  },
  "language_info": {
   "codemirror_mode": {
    "name": "ipython",
    "version": 3
   },
   "file_extension": ".py",
   "mimetype": "text/x-python",
   "name": "python",
   "nbconvert_exporter": "python",
   "pygments_lexer": "ipython3",
   "version": "3.11.4"
  },
  "orig_nbformat": 4
 },
 "nbformat": 4,
 "nbformat_minor": 2
}
