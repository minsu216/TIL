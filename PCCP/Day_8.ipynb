{
 "cells": [
  {
   "cell_type": "code",
   "execution_count": 1,
   "metadata": {},
   "outputs": [
    {
     "name": "stdout",
     "output_type": "stream",
     "text": [
      "hi\n"
     ]
    }
   ],
   "source": [
    "print('hi'"
   ]
  },
  {
   "cell_type": "code",
   "execution_count": 2,
   "metadata": {},
   "outputs": [
    {
     "name": "stdout",
     "output_type": "stream",
     "text": [
      "hI\n"
     ]
    }
   ],
   "source": [
    "print('hI')"
   ]
  },
  {
   "cell_type": "code",
   "execution_count": 14,
   "metadata": {},
   "outputs": [
    {
     "name": "stdout",
     "output_type": "stream",
     "text": [
      "2 3 4 5 6 7 8 9\n",
      "['2', '3', '4', '5', '6', '7', '8', '9']\n"
     ]
    }
   ],
   "source": [
    "value = input()\n",
    "print(value)\n",
    "\n",
    "value = value.split()\n",
    "print(value)\n",
    "lst=[]\n",
    "for num in value:\n",
    "    lst.append(int(num))\n",
    "#map(func, container)\n",
    "#container의 원소들을 각각 func에 통과시켜\n",
    "#결과들을 list와 비슷한 혀앹로 만들어준다.\n",
    "#단 map으로 감싸주기 때문에 눈으로 보기 위해서는 list로 형변환을 다시해야한다는 특징이 있다."
   ]
  },
  {
   "cell_type": "code",
   "execution_count": 12,
   "metadata": {},
   "outputs": [
    {
     "name": "stdout",
     "output_type": "stream",
     "text": [
      "[3]\n"
     ]
    }
   ],
   "source": [
    "\n",
    "value=list(map(int, value))\n",
    "print(value)"
   ]
  },
  {
   "cell_type": "code",
   "execution_count": null,
   "metadata": {},
   "outputs": [],
   "source": []
  },
  {
   "cell_type": "code",
   "execution_count": 19,
   "metadata": {},
   "outputs": [
    {
     "name": "stdout",
     "output_type": "stream",
     "text": [
      "4 3\n"
     ]
    }
   ],
   "source": [
    "n,m = list(map(int,input().split()))\n",
    "\n",
    "# 나 자신을 믿은거에요. <- 위험 ,\n",
    "print(n,m)\n",
    "mat=[]\n",
    "for _ in range(n):\n",
    "    lst= list(map(int,input().split()))\n",
    "    mat.append(lst)"
   ]
  },
  {
   "cell_type": "code",
   "execution_count": 22,
   "metadata": {},
   "outputs": [
    {
     "name": "stdout",
     "output_type": "stream",
     "text": [
      "[[4, 3], [1, 2, 3], [4, 5, 6], [7, 8, 9]]\n"
     ]
    }
   ],
   "source": [
    "print([list(map(int,input().split())) for _ in range(n)])"
   ]
  },
  {
   "cell_type": "code",
   "execution_count": 20,
   "metadata": {},
   "outputs": [
    {
     "data": {
      "text/plain": [
       "[[1, 2, 3], [4, 5, 6], [7, 8, 9], [10, 11, 12]]"
      ]
     },
     "execution_count": 20,
     "metadata": {},
     "output_type": "execute_result"
    }
   ],
   "source": [
    "\n",
    "\n",
    "[value(i) for i in container]"
   ]
  },
  {
   "cell_type": "code",
   "execution_count": null,
   "metadata": {},
   "outputs": [],
   "source": [
    "def func(a, b) :\n",
    "    return a+b # 내가하고싶은건 a와 b를 더하는것"
   ]
  },
  {
   "cell_type": "code",
   "execution_count": null,
   "metadata": {},
   "outputs": [],
   "source": [
    "map(int, input().split())# map에서 int라는 함수를 input().split()에 넣어줄꺼야 라고 생각하면된다.!"
   ]
  },
  {
   "cell_type": "code",
   "execution_count": 45,
   "metadata": {},
   "outputs": [
    {
     "name": "stdout",
     "output_type": "stream",
     "text": [
      "yes\n"
     ]
    }
   ],
   "source": [
    "s=input()\n",
    "\n",
    "if s== s[::-1]:\n",
    "    print('yes')\n",
    "else:\n",
    "    print('no')"
   ]
  },
  {
   "cell_type": "code",
   "execution_count": 46,
   "metadata": {},
   "outputs": [
    {
     "data": {
      "text/plain": [
       "'121'"
      ]
     },
     "execution_count": 46,
     "metadata": {},
     "output_type": "execute_result"
    }
   ],
   "source": []
  },
  {
   "cell_type": "code",
   "execution_count": 22,
   "metadata": {},
   "outputs": [
    {
     "name": "stdout",
     "output_type": "stream",
     "text": [
      "yes\n",
      "no\n",
      "yes\n"
     ]
    }
   ],
   "source": [
    "while True:\n",
    "    s = input()\n",
    "    if s == '0':\n",
    "        break\n",
    "    lst=[]\n",
    "    for i in range(len(s)-1,-1,-1): \n",
    "        lst.append(s[i])\n",
    "    if s == ''.join(lst):\n",
    "        print('yes')\n",
    "    else:\n",
    "        print('no')\n",
    "    "
   ]
  },
  {
   "cell_type": "code",
   "execution_count": 48,
   "metadata": {},
   "outputs": [
    {
     "name": "stdout",
     "output_type": "stream",
     "text": [
      "yes\n",
      "yes\n"
     ]
    }
   ],
   "source": [
    "s='123421'\n",
    "\n",
    "is_pellindrome= True\n",
    "for index in range(len(s)):\n",
    "    # print(index)\n",
    "    # print(s[index])\n",
    "    compre_index = -(index+1)\n",
    "    if s[index] != s[compre_index]:\n",
    "        is_pellindrome= False\n",
    "        break\n",
    "    if is_pellindrome: \n",
    "        print('yes')\n",
    "    else:\n",
    "        print('no')\n",
    "\n",
    "\n",
    "    # -5 -4 -3 -2 -1 0\n",
    "    # index       compare_index\n",
    "    # 0             -(0 + 1)\n",
    "    # 1             -(1 + 1)\n",
    "    # 2             -(2 + 1)"
   ]
  },
  {
   "cell_type": "code",
   "execution_count": null,
   "metadata": {},
   "outputs": [],
   "source": [
    "s='123421'\n",
    "start_index=0\n",
    "end_index=len(s)-1\n",
    "is_pellindrome=True\n",
    "while True:\n",
    "    # s, e 랑 비교를 할거야 \n",
    "    # 만약 두개가 달라? 그럼 회문이 아니야!\n",
    "    # 펠린드롬이 아니얍\n",
    "    # s는 1씩 커지고 e는 1씩 작아져!\n",
    "    # s가 e보다 커지면 멈추면 될 것 같아!!\n",
    "    # range =1  index와 길이의 연관관계 1,2,3,4...\n",
    "    if s[start_index] != s[end_index]:\n",
    "        is_pellindrome=False\n",
    "        break\n",
    "    start_index+=1\n",
    "    end_index-=1\n",
    "\n",
    "    if start_index >= end_index:\n",
    "        break"
   ]
  },
  {
   "cell_type": "code",
   "execution_count": null,
   "metadata": {},
   "outputs": [],
   "source": []
  },
  {
   "cell_type": "code",
   "execution_count": null,
   "metadata": {},
   "outputs": [],
   "source": []
  },
  {
   "cell_type": "code",
   "execution_count": null,
   "metadata": {},
   "outputs": [],
   "source": []
  },
  {
   "cell_type": "code",
   "execution_count": null,
   "metadata": {},
   "outputs": [],
   "source": []
  },
  {
   "cell_type": "code",
   "execution_count": null,
   "metadata": {},
   "outputs": [],
   "source": []
  },
  {
   "cell_type": "code",
   "execution_count": null,
   "metadata": {},
   "outputs": [],
   "source": []
  },
  {
   "cell_type": "code",
   "execution_count": null,
   "metadata": {},
   "outputs": [],
   "source": []
  },
  {
   "cell_type": "code",
   "execution_count": null,
   "metadata": {},
   "outputs": [],
   "source": []
  }
 ],
 "metadata": {
  "kernelspec": {
   "display_name": "Python 3",
   "language": "python",
   "name": "python3"
  },
  "language_info": {
   "codemirror_mode": {
    "name": "ipython",
    "version": 3
   },
   "file_extension": ".py",
   "mimetype": "text/x-python",
   "name": "python",
   "nbconvert_exporter": "python",
   "pygments_lexer": "ipython3",
   "version": "3.11.4"
  },
  "orig_nbformat": 4
 },
 "nbformat": 4,
 "nbformat_minor": 2
}
